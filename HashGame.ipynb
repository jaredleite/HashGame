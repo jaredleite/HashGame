{
 "cells": [
  {
   "cell_type": "code",
   "execution_count": 1,
   "id": "2afbb9c7",
   "metadata": {},
   "outputs": [],
   "source": [
    "from ipywidgets import Output, Button, Layout, HBox, VBox\n",
    "from IPython.display import display"
   ]
  },
  {
   "cell_type": "code",
   "execution_count": 2,
   "id": "032b722d",
   "metadata": {},
   "outputs": [
    {
     "data": {
      "text/html": [
       "<style>.xPlayerClass { color:red ; font-size:100px}\n"
      ],
      "text/plain": [
       "<IPython.core.display.HTML object>"
      ]
     },
     "metadata": {},
     "output_type": "display_data"
    }
   ],
   "source": [
    "%%html\n",
    "<style>.xPlayerClass { color:red ; font-size:100px}"
   ]
  },
  {
   "cell_type": "code",
   "execution_count": 3,
   "id": "f7ab334b",
   "metadata": {},
   "outputs": [
    {
     "data": {
      "text/html": [
       "<style>.oPlayerClass { color:blue ; font-size:100px}\n"
      ],
      "text/plain": [
       "<IPython.core.display.HTML object>"
      ]
     },
     "metadata": {},
     "output_type": "display_data"
    }
   ],
   "source": [
    "%%html\n",
    "<style>.oPlayerClass { color:blue ; font-size:100px}"
   ]
  },
  {
   "cell_type": "code",
   "execution_count": 4,
   "id": "81f99734",
   "metadata": {},
   "outputs": [
    {
     "data": {
      "text/html": [
       "<style>.winnerLineClass { background-color: #FCF28D;}\n"
      ],
      "text/plain": [
       "<IPython.core.display.HTML object>"
      ]
     },
     "metadata": {},
     "output_type": "display_data"
    }
   ],
   "source": [
    "%%html\n",
    "<style>.winnerLineClass { background-color: #FCF28D;}"
   ]
  },
  {
   "cell_type": "code",
   "execution_count": 5,
   "id": "d4eaac07",
   "metadata": {},
   "outputs": [],
   "source": [
    "def closeGame(flagDraw, flagXplayerWins, direction, i):\n",
    "\n",
    "    \"\"\"\n",
    "    Apply final layout and declare the winner\n",
    "\n",
    "    flagDraw:\n",
    "        True -> its a draw\n",
    "        False -> it isn't a draw\n",
    "\n",
    "    flagXplayerWins:\n",
    "        True -> X player wins\n",
    "        False -> O player wins\n",
    "\n",
    "    direction: winner direction\n",
    "        'diagonal'\n",
    "        'vertical' (column)\n",
    "        'horizontal' (row)\n",
    "\n",
    "    i: identifies direction\n",
    "        0, 1 or 2\n",
    "\n",
    "    direction = 'diagonal', i = 0 : first diagonal\n",
    "    \"\"\"\n",
    "    print(\"Game Over:\")\n",
    "    if flagDraw:\n",
    "        print(\"Its a draw!\")\n",
    "    \n",
    "    else:\n",
    "        j=0\n",
    "        for m in range(3):\n",
    "            for n in range(3):\n",
    "                buttons[j].disabled=True\n",
    "                if direction == 'horizontal':\n",
    "                    if m == i:\n",
    "                        buttons[j].add_class('winnerLineClass')\n",
    "                elif direction == 'vertical':\n",
    "                    if n == i:\n",
    "                        buttons[j].add_class('winnerLineClass')\n",
    "                elif direction == 'diagonal':\n",
    "                    if i == 0 and m == n:\n",
    "                        buttons[j].add_class('winnerLineClass')\n",
    "                    elif i == 1 and (m+n) == 2:\n",
    "                        buttons[j].add_class('winnerLineClass')\n",
    "                j+=1\n",
    "        if flagXplayerWins:\n",
    "            print(\"X player wins!\")\n",
    "        else:\n",
    "            print(\"O player wins\")\n",
    "        \n",
    "    \n"
   ]
  },
  {
   "cell_type": "code",
   "execution_count": 6,
   "id": "a3ddac2c",
   "metadata": {},
   "outputs": [],
   "source": [
    "def gameStatus():\n",
    "    \n",
    "    \"\"\"\n",
    "    Verify the game status, if game is over calls closeGame()\n",
    "    \"\"\"\n",
    "    \n",
    "    \n",
    "    rowsSum = [0, 0, 0]\n",
    "    columnsSum = [0, 0, 0]\n",
    "    diagonalsSum = [0, 0]\n",
    "    draw = True\n",
    "    gameOver = False\n",
    "    XplayerWins = False\n",
    "    rSum = 0\n",
    "    cSum = 0\n",
    "    dSum = 0\n",
    "    totalSum = 0\n",
    "\n",
    "    global gameMap\n",
    "    \n",
    "    #Sum all rows, columns e diagonals\n",
    "    for m in range(3):\n",
    "        for n in range(3):\n",
    "            if m == n:\n",
    "                diagonalsSum[0]+= gameMap[m][n]\n",
    "            if (m+n) == 2:\n",
    "                diagonalsSum[1]+= gameMap[m][n]\n",
    "            for k in range(3):\n",
    "                if m == k:\n",
    "                    rowsSum[k]+= gameMap[m][n]\n",
    "                if n == k:\n",
    "                    columnsSum[k]+= gameMap[m][n]\n",
    "\n",
    "                    \n",
    "    #Verify the game status\n",
    "    \n",
    "    for i, rSum in enumerate(rowsSum):\n",
    "        if abs(rSum) == 3:\n",
    "            draw = False\n",
    "            gameOver = True\n",
    "            if rSum > 0:\n",
    "                XplayerWins = True\n",
    "            else:\n",
    "                XplayerWins = False\n",
    "            closeGame(draw, XplayerWins, \"horizontal\", i)\n",
    "            break\n",
    "            \n",
    "    if not gameOver:\n",
    "        for i, cSum in enumerate(columnsSum):\n",
    "            if abs(cSum) == 3:\n",
    "                draw = False\n",
    "                gameOver = True\n",
    "                if cSum > 0:\n",
    "                    XplayerWins = True\n",
    "                else:\n",
    "                    XplayerWins = False\n",
    "                closeGame(draw, XplayerWins, \"vertical\", i)\n",
    "                break\n",
    "    if not gameOver:\n",
    "        for i, dSum in enumerate(diagonalsSum):\n",
    "            if (abs(dSum) == 3):\n",
    "                #print(\"aqui\")\n",
    "                draw = False\n",
    "                gameOver = True\n",
    "                if dSum > 0:\n",
    "                    XplayerWins = True\n",
    "                else:\n",
    "                    XplayerWins = False\n",
    "                closeGame(draw, XplayerWins, \"diagonal\", i)\n",
    "                break\n",
    "    if not gameOver:\n",
    "        for m in range(3):\n",
    "            for n in range(3):\n",
    "                totalSum += abs(gameMap[m][n])\n",
    "        if totalSum == 9:\n",
    "            gameOver = True\n",
    "            draw = True\n",
    "            closeGame(draw, XplayerWins, 0 , 0)\n",
    "        else:\n",
    "            gameOver = False\n",
    "            draw = True"
   ]
  },
  {
   "cell_type": "code",
   "execution_count": 7,
   "id": "dba384b6",
   "metadata": {},
   "outputs": [],
   "source": [
    "def onClick(i):\n",
    "    \"\"\"\n",
    "    Register the move and calls gameStatus()\n",
    "    \n",
    "    i: identify one of the 9 buttons\n",
    "    \n",
    "    b0 b1 b2\n",
    "    b3 b4 b5\n",
    "    b6 b7 b8\n",
    "    \n",
    "    gameMap is list of lists (like 3 order matrix)\n",
    "    \n",
    "    marker:\n",
    "    0 -> blank\n",
    "    1 -> X\n",
    "    2 -> O\n",
    "    \"\"\"\n",
    "    \n",
    "    global gameMap\n",
    "    global marker\n",
    "    \n",
    "    #identify button/position in gameMap\n",
    "    gameMap[int(i/3)][i%3] = marker\n",
    "    \n",
    "    if marker == 1:\n",
    "        buttons[i].description= \"x\"\n",
    "        buttons[i].add_class('xPlayerClass')\n",
    "    else:\n",
    "        buttons[i].description= \"o\"\n",
    "        buttons[i].add_class('oPlayerClass')\n",
    "    \n",
    "    buttons[i].disabled=True\n",
    "\n",
    "    marker = (-1)* marker #inverte marker sinal (change player)\n",
    "    \n",
    "    gameStatus()"
   ]
  },
  {
   "cell_type": "code",
   "execution_count": 8,
   "id": "647bbfe2",
   "metadata": {
    "scrolled": false
   },
   "outputs": [
    {
     "data": {
      "application/vnd.jupyter.widget-view+json": {
       "model_id": "006cb70fc7da4b86ba902a74930b7ce6",
       "version_major": 2,
       "version_minor": 0
      },
      "text/plain": [
       "HBox(children=(VBox(children=(Button(layout=Layout(height='100px', width='100px'), style=ButtonStyle()), Butto…"
      ]
     },
     "metadata": {},
     "output_type": "display_data"
    },
    {
     "name": "stdout",
     "output_type": "stream",
     "text": [
      "Game Over:\n",
      "O player wins\n"
     ]
    }
   ],
   "source": [
    "'''\n",
    "gameMap:\n",
    "0   1   2\n",
    "3   4   5\n",
    "6   7   8\n",
    "'''\n",
    "\n",
    "buttons = []\n",
    "gameMap= [[0, 0, 0],[0, 0, 0], [0, 0, 0]]\n",
    "marker = 1\n",
    "\n",
    "for i in range(9):\n",
    "    buttons.append(Button(layout=Layout(width='100px', height='100px')))\n",
    "    \n",
    "def onB0(b):\n",
    "    onClick(0)\n",
    "def onB1(b):\n",
    "    onClick(1)\n",
    "def onB2(b):\n",
    "    onClick(2)\n",
    "def onB3(b):\n",
    "    onClick(3)\n",
    "def onB4(b):\n",
    "    onClick(4)\n",
    "def onB5(b):\n",
    "    onClick(5)\n",
    "def onB6(b):\n",
    "    onClick(6)\n",
    "def onB7(b):\n",
    "    onClick(7)\n",
    "def onB8(b):\n",
    "    onClick(8)\n",
    "    \n",
    "buttons[0].on_click(onB0)\n",
    "buttons[1].on_click(onB1)\n",
    "buttons[2].on_click(onB2)\n",
    "buttons[3].on_click(onB3)\n",
    "buttons[4].on_click(onB4)\n",
    "buttons[5].on_click(onB5)\n",
    "buttons[6].on_click(onB6)\n",
    "buttons[7].on_click(onB7)\n",
    "buttons[8].on_click(onB8)\n",
    "\n",
    "\n",
    "col1 = VBox([buttons[0], buttons[3], buttons[6]])\n",
    "col2 = VBox([buttons[1], buttons[4], buttons[7]])\n",
    "col3 = VBox([buttons[2], buttons[5], buttons[8]])\n",
    "                         \n",
    "HBox([col1, col2, col3])"
   ]
  },
  {
   "cell_type": "code",
   "execution_count": null,
   "id": "492b5501",
   "metadata": {},
   "outputs": [],
   "source": []
  },
  {
   "cell_type": "code",
   "execution_count": null,
   "id": "9658a41a",
   "metadata": {},
   "outputs": [],
   "source": []
  },
  {
   "cell_type": "code",
   "execution_count": null,
   "id": "2e4b0fed",
   "metadata": {},
   "outputs": [],
   "source": []
  }
 ],
 "metadata": {
  "kernelspec": {
   "display_name": "Python 3",
   "language": "python",
   "name": "python3"
  },
  "language_info": {
   "codemirror_mode": {
    "name": "ipython",
    "version": 3
   },
   "file_extension": ".py",
   "mimetype": "text/x-python",
   "name": "python",
   "nbconvert_exporter": "python",
   "pygments_lexer": "ipython3",
   "version": "3.8.8"
  }
 },
 "nbformat": 4,
 "nbformat_minor": 5
}
